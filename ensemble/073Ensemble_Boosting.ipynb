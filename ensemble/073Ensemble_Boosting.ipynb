{
 "cells": [
  {
   "cell_type": "markdown",
   "metadata": {},
   "source": [
    "# Ensemble methods. Boosting\n",
    "\n",
    "\n",
    "## AdaBoost\n",
    "\n",
    "AdaBoost consists of following steps:\n",
    "* initialize weights to $\\frac{1}{N}$, where $N$ is the number of datapoints,\n",
    "* loop until \n",
    "  $\\varepsilon_{t}<\\frac{1}{2}$\n",
    "  or maximum number of iteration is reached,\n",
    "\n",
    "* train classifier on ${S,w^{(t)}}$ and get a hypothesis $h_{t}(x_{n})$ for datapoints $x_{n}$,\n",
    "\n",
    "* compute error $\\varepsilon_{t}=\\sum_{n=1}^{N}w_{n}^{(t)}I(y_{n}\\neq h_{t}(x_{n}))$,       \n",
    "\n",
    "* set $\\alpha_{t}=\\log(\\frac{1-\\varepsilon_{t}}{\\varepsilon_{t}})$.\n",
    "  \n",
    "* update weights $w_{n}^{(t+1)}=\\frac{w_{n}^{(t)}\\exp{\\alpha_{t}I(y_{n}\\neq h_{t}(x_{n}))}}{Z_{t}}$,\n",
    "  where $Z_{t}$ is a normalization constant,\n",
    "\n",
    "* output $f(X)=\\text{sign}(\\sum_{t=1}^{T}\\alpha_{t}h_{t}(x))$.\n",
    "  \n",
    "Example taken from Marsland, Machine Learning: https://seat.massey.ac.nz/personal/s.r.marsland/MLBook.html.\n",
    "\n",
    "\n",
    "First, we need to import libraries:"
   ]
  },
  {
   "cell_type": "code",
   "execution_count": 5,
   "metadata": {},
   "outputs": [],
   "source": [
    "import numpy as np\n",
    "from sklearn.tree import DecisionTreeClassifier"
   ]
  },
  {
   "cell_type": "markdown",
   "metadata": {},
   "source": [
    "Variables that are used by the classifier:"
   ]
  },
  {
   "cell_type": "code",
   "execution_count": 6,
   "metadata": {},
   "outputs": [],
   "source": [
    "from sklearn.datasets import load_iris\n",
    "import numpy as np\n",
    "from sklearn.model_selection import train_test_split\n",
    "\n",
    "\n",
    "labels = 2\n",
    "dimension = 2\n",
    "\n",
    "iris = load_iris()\n",
    "data_set = iris.data\n",
    "labels = iris.target\n",
    "\n",
    "train_set, test_set, train_labels, test_labels = train_test_split(data_set, labels, \n",
    "                                                                            test_size=0.33, random_state=42)"
   ]
  },
  {
   "cell_type": "markdown",
   "metadata": {},
   "source": [
    "Weights initialization:"
   ]
  },
  {
   "cell_type": "code",
   "execution_count": 7,
   "metadata": {},
   "outputs": [],
   "source": [
    "number_of_iterations = 10\n",
    "weights = np.ones((len(test_set),)) / len(test_set)"
   ]
  },
  {
   "cell_type": "markdown",
   "metadata": {},
   "source": [
    "The data set looks as:"
   ]
  },
  {
   "cell_type": "code",
   "execution_count": 8,
   "metadata": {},
   "outputs": [
    {
     "data": {
      "image/png": "[encoded data removed]",
      "text/plain": [
       "<Figure size 432x288 with 1 Axes>"
      ]
     },
     "metadata": {
      "needs_background": "light"
     },
     "output_type": "display_data"
    }
   ],
   "source": [
    "import matplotlib.pyplot as plt\n",
    "\n",
    "sizes = np.ones(len(test_set))*5\n",
    "\n",
    "plt.scatter(test_set[:, 1], test_set[:, 2], c=test_labels, s=sizes, cmap='autumn')\n",
    "plt.show()"
   ]
  },
  {
   "cell_type": "code",
   "execution_count": 9,
   "metadata": {},
   "outputs": [],
   "source": [
    "def train_model(classifier, weights):\n",
    "    return classifier.fit(X=test_set, y=test_labels, sample_weight=weights)"
   ]
  },
  {
   "cell_type": "markdown",
   "metadata": {},
   "source": [
    "Accuracy vector calculation for the weights: 0 - don't change the weight, 1 - change it."
   ]
  },
  {
   "cell_type": "code",
   "execution_count": 10,
   "metadata": {},
   "outputs": [],
   "source": [
    "def calculate_accuracy_vector(predicted, labels):\n",
    "    result = []\n",
    "    for i in range(len(predicted)):\n",
    "        if predicted[i] == labels[i]:\n",
    "            result.append(0)\n",
    "        else:\n",
    "            result.append(1)\n",
    "    return result"
   ]
  },
  {
   "cell_type": "markdown",
   "metadata": {},
   "source": [
    "Calculate the error rate $\\varepsilon_{t}=\\sum_{n=1}^{N}w_{n}^{(t)}I(y_{n}\\neq h_{t}(x_{n}))$:"
   ]
  },
  {
   "cell_type": "code",
   "execution_count": 11,
   "metadata": {},
   "outputs": [],
   "source": [
    "def calculate_error(weights, model):\n",
    "    predicted = model.predict(test_set)\n",
    "    return np.dot(weights,calculate_accuracy_vector(predicted, test_labels))"
   ]
  },
  {
   "cell_type": "markdown",
   "metadata": {},
   "source": [
    "Calculate the $\\alpha_{t}=\\log(\\frac{1-\\varepsilon_{t}}{\\varepsilon_{t}})$:"
   ]
  },
  {
   "cell_type": "code",
   "execution_count": 12,
   "metadata": {},
   "outputs": [],
   "source": [
    "def set_alpha(error_rate):\n",
    "    return np.log((1-error_rate)/error_rate)"
   ]
  },
  {
   "cell_type": "markdown",
   "metadata": {},
   "source": [
    "Calculate the new weights $w_{n}^{(t+1)}=\\frac{w_{n}^{(t)}\\exp{\\alpha_{t}I(y_{n}\\neq h_{t}(x_{n}))}}{Z_{t}}$:"
   ]
  },
  {
   "cell_type": "code",
   "execution_count": 13,
   "metadata": {},
   "outputs": [],
   "source": [
    "def set_new_weights(old_weights, alpha, model):\n",
    "    new_weights = old_weights * np.exp(np.multiply(alpha,calculate_accuracy_vector(model.predict(test_set), test_labels)))\n",
    "    Zt = np.sum(new_weights)\n",
    "    return new_weights / Zt"
   ]
  },
  {
   "cell_type": "markdown",
   "metadata": {},
   "source": [
    "Now, it's time to run the code and check the weights:"
   ]
  },
  {
   "cell_type": "code",
   "execution_count": 14,
   "metadata": {},
   "outputs": [
    {
     "name": "stdout",
     "output_type": "stream",
     "text": [
      "[0.03333333 0.01626441 0.01193602 0.03333333 0.03333333 0.01626441\n",
      " 0.03333333 0.01193602 0.03333333 0.03333333 0.01193602 0.01626441\n",
      " 0.01626441 0.01626441 0.01626441 0.03333333 0.01193602 0.03333333\n",
      " 0.03333333 0.01193602 0.01626441 0.01193602 0.01626441 0.01193602\n",
      " 0.01193602 0.01193602 0.01193602 0.01193602 0.01626441 0.01626441\n",
      " 0.01626441 0.01626441 0.03333333 0.01626441 0.01626441 0.01193602\n",
      " 0.03333333 0.01626441 0.01626441 0.01626441 0.01193602 0.03333333\n",
      " 0.03333333 0.01626441 0.01626441 0.03333333 0.01193602 0.01193602\n",
      " 0.03333333 0.01193602]\n"
     ]
    }
   ],
   "source": [
    "classifier = DecisionTreeClassifier(max_depth=1, random_state=1)\n",
    "classifier.fit(X=train_set, y=train_labels)\n",
    "alphas = []\n",
    "classifiers = []\n",
    "for iteration in range(number_of_iterations):\n",
    "    model = train_model(classifier, weights)\n",
    "    error_rate = calculate_error(weights, model)\n",
    "    alpha = set_alpha(error_rate)\n",
    "    weights = set_new_weights(weights, alpha, model)\n",
    "    alphas.append(alpha)\n",
    "    classifiers.append(model)\n",
    "\n",
    "print(weights)"
   ]
  },
  {
   "cell_type": "code",
   "execution_count": 15,
   "metadata": {},
   "outputs": [],
   "source": [
    "weights = (weights/np.min(weights))*2"
   ]
  },
  {
   "cell_type": "code",
   "execution_count": 16,
   "metadata": {},
   "outputs": [
    {
     "data": {
      "image/png": "[encoded data removed]",
      "text/plain": [
       "<Figure size 432x288 with 1 Axes>"
      ]
     },
     "metadata": {
      "needs_background": "light"
     },
     "output_type": "display_data"
    }
   ],
   "source": [
    "plt.scatter(test_set[:, 1], test_set[:, 2], c=test_labels, s=weights, cmap='autumn')\n",
    "\n",
    "\n",
    "plt.show()"
   ]
  },
  {
   "cell_type": "code",
   "execution_count": null,
   "metadata": {},
   "outputs": [],
   "source": []
  },
  {
   "cell_type": "code",
   "execution_count": null,
   "metadata": {},
   "outputs": [],
   "source": []
  }
 ],
 "metadata": {
  "kernelspec": {
   "display_name": "Python 3",
   "language": "python",
   "name": "python3"
  },
  "language_info": {
   "codemirror_mode": {
    "name": "ipython",
    "version": 3
   },
   "file_extension": ".py",
   "mimetype": "text/x-python",
   "name": "python",
   "nbconvert_exporter": "python",
   "pygments_lexer": "ipython3",
   "version": "3.6.9"
  }
 },
 "nbformat": 4,
 "nbformat_minor": 4
}
