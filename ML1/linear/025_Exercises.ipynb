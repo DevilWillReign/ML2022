{
 "cells": [
  {
   "cell_type": "markdown",
   "metadata": {},
   "source": [
    "# Exercises\n",
    "\n",
    "There are three exercises in this notebook:\n",
    "\n",
    "1. Use the cross-validation method to test the linear regression with different $\\alpha$ values, at least three.\n",
    "2. Implement a SGD method that will train the Lasso regression for 10 epochs.\n",
    "3. Extend the Fisher's classifier to work with two features. Use the class as the $y$."
   ]
  },
  {
   "cell_type": "markdown",
   "metadata": {},
   "source": [
    "## 1. Cross-validation linear regression\n",
    "\n",
    "You need to change the variable ``alpha`` to be a list of alphas. Next do a loop and finally compare the results."
   ]
  },
  {
   "cell_type": "code",
   "execution_count": 2,
   "metadata": {},
   "outputs": [
    {
     "name": "stdout",
     "output_type": "stream",
     "text": [
      "0.001\n"
     ]
    }
   ],
   "source": [
    "import numpy as np\n",
    "x1 = np.array([188, 181, 197, 168, 167, 187, 178, 194, 140, 176, 168, 192, 173, 142, 176]).reshape(-1, 1).reshape(15,1)\n",
    "y = np.array([141, 106, 149, 59, 79, 136, 65, 136, 52, 87, 115, 140, 82, 69, 121]).reshape(-1, 1).reshape(15,1)\n",
    "\n",
    "x = np.asmatrix(np.c_[np.ones((15,1)),x1])\n",
    "\n",
    "I = np.identity(2)\n",
    "alpha = [0.1, 0.001, 0.01] # change here\n",
    "\n",
    "# add 1-3 line of code here\n",
    "wa = [np.array(np.linalg.inv(x.T*x + a * I)*x.T*y).ravel() for a in alpha]\n",
    "\n",
    "# add 1-3 lines to compare the results\n",
    "from sklearn.metrics import mean_squared_error\n",
    "print(alpha[np.argmin([mean_squared_error(y, list([xi*w[1]+w[0] for xi in x1])) for w in wa])])\n",
    "\n"
   ]
  },
  {
   "cell_type": "markdown",
   "metadata": {},
   "source": [
    "## 2. Implement based on the Ridge regression example, the Lasso regression.\n",
    "\n",
    "Please implement the SGD method and compare the results with the sklearn Lasso regression results. "
   ]
  },
  {
   "cell_type": "code",
   "execution_count": 431,
   "metadata": {},
   "outputs": [],
   "source": [
    "def sgd(xi, yi, wi, alpha, lr=0.001):\n",
    "    haty = xi.dot(wi[0]) + wi[1]\n",
    "    intermidiate = -2 * np.matmul((yi - haty).T, xi)\n",
    "    if wi[0] > 0:\n",
    "        wi[0] -= lr*(intermidiate + alpha)\n",
    "    else:\n",
    "        wi[0] -= lr*(intermidiate - alpha)\n",
    "    wi[1] -= lr*intermidiate\n",
    "    return wi"
   ]
  },
  {
   "cell_type": "code",
   "execution_count": 432,
   "metadata": {},
   "outputs": [
    {
     "name": "stdout",
     "output_type": "stream",
     "text": [
      "[-2.93142408e+29 -2.93142408e+29]\n"
     ]
    }
   ],
   "source": [
    "x = np.array([188, 181, 197, 168, 167, 187, 178, 194, 140, 176, 168, 192, 173, 142, 176]).reshape(-1, 1)\n",
    "y = np.array([141, 106, 149, 59, 79, 136, 65, 136, 52, 87, 115, 140, 82, 69, 121]).reshape(-1, 1)\n",
    "\n",
    "w = np.zeros(2)\n",
    "alpha = 0.1\n",
    "\n",
    "for k in range(10):\n",
    "    w = sgd(x, y, w, alpha)\n",
    "print(w)"
   ]
  },
  {
   "cell_type": "markdown",
   "metadata": {
    "tags": []
   },
   "source": [
    "## 3. Extend the Fisher's classifier\n",
    "\n",
    "Please extend the targets of the ``iris_data`` variable and use it as the $y$."
   ]
  },
  {
   "cell_type": "code",
   "execution_count": 440,
   "metadata": {},
   "outputs": [
    {
     "name": "stdout",
     "output_type": "stream",
     "text": [
      "[ 8.73433411  9.7136254   9.32190888  9.51776714  8.53847585  7.95090107\n",
      "  8.93019237  8.93019237  9.90948366  9.51776714  8.34261759  8.93019237\n",
      "  9.7136254   9.7136254   7.75504282  6.97160978  7.95090107  8.73433411\n",
      "  8.14675933  8.14675933  8.93019237  8.34261759  8.53847585  9.12605063\n",
      "  8.93019237  9.7136254   8.93019237  8.73433411  8.93019237  9.32190888\n",
      "  9.51776714  8.93019237  7.55918456  7.3633263   9.51776714  9.32190888\n",
      "  8.73433411  8.53847585  9.7136254   8.93019237  8.73433411 11.08463321\n",
      "  9.32190888  8.73433411  8.14675933  9.7136254   8.14675933  9.32190888\n",
      "  8.34261759  9.12605063  9.32190888  9.32190888  9.51776714 11.08463321\n",
      " 10.10534192 10.10534192  9.12605063 10.88877495  9.90948366 10.30120018\n",
      " 11.67220799  9.7136254  11.28049147  9.90948366  9.90948366  9.51776714\n",
      "  9.7136254  10.30120018 11.28049147 10.69291669  9.32190888 10.10534192\n",
      " 10.69291669 10.10534192  9.90948366  9.7136254  10.10534192  9.7136254\n",
      "  9.90948366 10.49705844 10.88877495 10.88877495 10.30120018 10.30120018\n",
      "  9.7136254   8.93019237  9.51776714 11.08463321  9.7136254  10.69291669\n",
      " 10.49705844  9.7136254  10.49705844 11.08463321 10.30120018  9.7136254\n",
      "  9.90948366  9.90948366 10.69291669 10.10534192  9.12605063 10.30120018\n",
      "  9.7136254   9.90948366  9.7136254   9.7136254  10.69291669  9.90948366\n",
      " 10.69291669  8.53847585  9.32190888 10.30120018  9.7136254  10.69291669\n",
      " 10.10534192  9.32190888  9.7136254   8.14675933 10.49705844 11.28049147\n",
      "  9.32190888 10.10534192 10.10534192 10.30120018  9.12605063  9.32190888\n",
      " 10.10534192  9.7136254  10.10534192  9.7136254  10.10534192  8.14675933\n",
      " 10.10534192 10.10534192 10.49705844  9.7136254   8.93019237  9.51776714\n",
      "  9.7136254   9.51776714  9.51776714  9.51776714 10.30120018  9.32190888\n",
      "  9.12605063  9.7136254  10.69291669  9.7136254   8.93019237  9.7136254 ]\n"
     ]
    }
   ],
   "source": [
    "import pandas as pd\n",
    "import numpy as np\n",
    "import matplotlib.pyplot as plt\n",
    "from sklearn.datasets import load_iris\n",
    "\n",
    "iris_data = load_iris()\n",
    "iris_df = pd.DataFrame(iris_data.data,columns=iris_data.feature_names)\n",
    "#iris_df.head()\n",
    "\n",
    "x = iris_df['sepal width (cm)'].values # change here\n",
    "y = iris_df['sepal length (cm)'].values # change here\n",
    "y1 = iris_df['petal length (cm)'].values\n",
    "\n",
    "dataset_size = np.size(x)\n",
    "\n",
    "mean_x, mean_y, mean_y1 = np.mean(x), np.mean(y), np.mean(y1)\n",
    "\n",
    "SS_xy = (np.sum(y * x) - dataset_size * mean_y * mean_x)  + (np.sum(y1 * x) - dataset_size * mean_y1 * mean_x)\n",
    "SS_xx = np.sum(x * x) - dataset_size * mean_x * mean_x\n",
    "\n",
    "a = SS_xy / SS_xx\n",
    "b = mean_y + mean_y1 - a * mean_x\n",
    "\n",
    "\n",
    "y_pred = a * x + b\n",
    "print(y_pred)"
   ]
  },
  {
   "cell_type": "code",
   "execution_count": null,
   "metadata": {},
   "outputs": [],
   "source": []
  },
  {
   "cell_type": "code",
   "execution_count": null,
   "metadata": {},
   "outputs": [],
   "source": []
  }
 ],
 "metadata": {
  "kernelspec": {
   "display_name": "Python 3",
   "language": "python",
   "name": "python3"
  },
  "language_info": {
   "codemirror_mode": {
    "name": "ipython",
    "version": 3
   },
   "file_extension": ".py",
   "mimetype": "text/x-python",
   "name": "python",
   "nbconvert_exporter": "python",
   "pygments_lexer": "ipython3",
   "version": "3.6.9"
  }
 },
 "nbformat": 4,
 "nbformat_minor": 4
}
