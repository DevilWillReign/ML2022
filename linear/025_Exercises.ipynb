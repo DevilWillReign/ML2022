{
 "cells": [
  {
   "cell_type": "markdown",
   "metadata": {},
   "source": [
    "# Exercises\n",
    "\n",
    "There are three exercises in this notebook:\n",
    "\n",
    "1. Use the cross-validation method to test the linear regression with different $\\alpha$ values, at least three.\n",
    "2. Implement a SGD method that will train the Lasso regression for 10 epochs.\n",
    "3. Extend the Fisher's classifier to work with two features. Use the class as the $y$."
   ]
  },
  {
   "cell_type": "markdown",
   "metadata": {},
   "source": [
    "## 1. Cross-validation linear regression\n",
    "\n",
    "You need to change the variable ``alpha`` to be a list of alphas. Next do a loop and finally compare the results."
   ]
  },
  {
   "cell_type": "code",
   "execution_count": 1,
   "metadata": {},
   "outputs": [
    {
     "name": "stdout",
     "output_type": "stream",
     "text": [
      "0.001\n"
     ]
    }
   ],
   "source": [
    "import numpy as np\n",
    "x1 = np.array([188, 181, 197, 168, 167, 187, 178, 194, 140, 176, 168, 192, 173, 142, 176]).reshape(-1, 1).reshape(15,1)\n",
    "y = np.array([141, 106, 149, 59, 79, 136, 65, 136, 52, 87, 115, 140, 82, 69, 121]).reshape(-1, 1).reshape(15,1)\n",
    "\n",
    "x = np.asmatrix(np.c_[np.ones((15,1)),x1])\n",
    "\n",
    "I = np.identity(2)\n",
    "alpha = [0.1, 0.001, 0.01] # change here\n",
    "\n",
    "# add 1-3 line of code here\n",
    "wa = [np.array(np.linalg.inv(x.T*x + a * I)*x.T*y).ravel() for a in alpha]\n",
    "\n",
    "# add 1-3 lines to compare the results\n",
    "from sklearn.metrics import mean_squared_error\n",
    "print(alpha[np.argmin([mean_squared_error(y, list([xi*w[1]+w[0] for xi in x1])) for w in wa])])\n",
    "\n"
   ]
  },
  {
   "cell_type": "markdown",
   "metadata": {},
   "source": [
    "## 2. Implement based on the Ridge regression example, the Lasso regression.\n",
    "\n",
    "Please implement the SGD method and compare the results with the sklearn Lasso regression results. "
   ]
  },
  {
   "cell_type": "code",
   "execution_count": 7,
   "metadata": {},
   "outputs": [],
   "source": [
    "def sgd(xi, yi, wi, lr=0.0001):\n",
    "    haty = xi * wi\n",
    "    wj = wi - lr*-2*xi.T*(yi-haty)\n",
    "    return wj"
   ]
  },
  {
   "cell_type": "code",
   "execution_count": null,
   "metadata": {},
   "outputs": [],
   "source": [
    "x1 = np.array([188, 181, 197, 168, 167, 187, 178, 194, 140, 176, 168, 192, 173, 142, 176]).reshape(-1, 1).reshape(15,1)\n",
    "y = np.array([141, 106, 149, 59, 79, 136, 65, 136, 52, 87, 115, 140, 82, 69, 121]).reshape(-1, 1).reshape(15,1)\n",
    "\n",
    "x = np.asmatrix(np.c_[np.ones((15,1)),x1])\n",
    "\n",
    "w = np.identity(2)\n",
    "alpha = 0.1\n",
    "\n",
    "w = (y - x*w).T*(y - x*w) + alpha * abs(w) # update this line\n",
    "print(w)\n",
    "for k in range(10):\n",
    "    w = sgd(x, y, w)\n",
    "w=np.array(w).ravel()\n",
    "print(w)"
   ]
  },
  {
   "cell_type": "markdown",
   "metadata": {},
   "source": [
    "## 3. Extend the Fisher's classifier\n",
    "\n",
    "Please extend the targets of the ``iris_data`` variable and use it as the $y$."
   ]
  },
  {
   "cell_type": "code",
   "execution_count": 9,
   "metadata": {},
   "outputs": [
    {
     "name": "stdout",
     "output_type": "stream",
     "text": [
      "[4.97633411 5.9556254  5.56390888 5.75976714 4.78047585 4.19290107\n",
      " 5.17219237 5.17219237 6.15148366 5.75976714 4.58461759 5.17219237\n",
      " 5.9556254  5.9556254  3.99704282 3.21360978 4.19290107 4.97633411\n",
      " 4.38875933 4.38875933 5.17219237 4.58461759 4.78047585 5.36805063\n",
      " 5.17219237 5.9556254  5.17219237 4.97633411 5.17219237 5.56390888\n",
      " 5.75976714 5.17219237 3.80118456 3.6053263  5.75976714 5.56390888\n",
      " 4.97633411 4.78047585 5.9556254  5.17219237 4.97633411 7.32663321\n",
      " 5.56390888 4.97633411 4.38875933 5.9556254  4.38875933 5.56390888\n",
      " 4.58461759 5.36805063 5.56390888 5.56390888 5.75976714 7.32663321\n",
      " 6.34734192 6.34734192 5.36805063 7.13077495 6.15148366 6.54320018\n",
      " 7.91420799 5.9556254  7.52249147 6.15148366 6.15148366 5.75976714\n",
      " 5.9556254  6.54320018 7.52249147 6.93491669 5.56390888 6.34734192\n",
      " 6.93491669 6.34734192 6.15148366 5.9556254  6.34734192 5.9556254\n",
      " 6.15148366 6.73905844 7.13077495 7.13077495 6.54320018 6.54320018\n",
      " 5.9556254  5.17219237 5.75976714 7.32663321 5.9556254  6.93491669\n",
      " 6.73905844 5.9556254  6.73905844 7.32663321 6.54320018 5.9556254\n",
      " 6.15148366 6.15148366 6.93491669 6.34734192 5.36805063 6.54320018\n",
      " 5.9556254  6.15148366 5.9556254  5.9556254  6.93491669 6.15148366\n",
      " 6.93491669 4.78047585 5.56390888 6.54320018 5.9556254  6.93491669\n",
      " 6.34734192 5.56390888 5.9556254  4.38875933 6.73905844 7.52249147\n",
      " 5.56390888 6.34734192 6.34734192 6.54320018 5.36805063 5.56390888\n",
      " 6.34734192 5.9556254  6.34734192 5.9556254  6.34734192 4.38875933\n",
      " 6.34734192 6.34734192 6.73905844 5.9556254  5.17219237 5.75976714\n",
      " 5.9556254  5.75976714 5.75976714 5.75976714 6.54320018 5.56390888\n",
      " 5.36805063 5.9556254  6.93491669 5.9556254  5.17219237 5.9556254 ]\n"
     ]
    }
   ],
   "source": [
    "import pandas as pd\n",
    "import numpy as np\n",
    "import matplotlib.pyplot as plt\n",
    "from sklearn.datasets import load_iris\n",
    "\n",
    "iris_data = load_iris()\n",
    "iris_df = pd.DataFrame(iris_data.data,columns=iris_data.feature_names)\n",
    "iris_df.head()\n",
    "\n",
    "x = iris_df['sepal width (cm)'].values # change here\n",
    "y = iris_df['sepal length (cm)'].values # change here\n",
    "y1 = iris_df['petal length (cm)'].values\n",
    "\n",
    "dataset_size = np.size(x)\n",
    "\n",
    "mean_x, mean_y, mean_y1 = np.mean(x), np.mean(y), np.mean(y1)\n",
    "\n",
    "SS_xy = (np.sum(y * x) - dataset_size * mean_y * mean_x)  + (np.sum(y1 * x) - dataset_size * mean_y1 * mean_x)\n",
    "SS_xx = np.sum(x * x) - dataset_size * mean_x * mean_x\n",
    "\n",
    "a = SS_xy / SS_xx\n",
    "b = mean_y - a * mean_x\n",
    "\n",
    "\n",
    "y_pred = a * x + b\n",
    "print(y_pred)"
   ]
  },
  {
   "cell_type": "code",
   "execution_count": null,
   "metadata": {},
   "outputs": [],
   "source": []
  }
 ],
 "metadata": {
  "kernelspec": {
   "display_name": "Python 3",
   "language": "python",
   "name": "python3"
  },
  "language_info": {
   "codemirror_mode": {
    "name": "ipython",
    "version": 3
   },
   "file_extension": ".py",
   "mimetype": "text/x-python",
   "name": "python",
   "nbconvert_exporter": "python",
   "pygments_lexer": "ipython3",
   "version": "3.6.9"
  }
 },
 "nbformat": 4,
 "nbformat_minor": 4
}
